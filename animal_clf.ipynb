{
 "cells": [
  {
   "cell_type": "code",
   "execution_count": null,
   "metadata": {},
   "outputs": [],
   "source": [
    "from fastai.vision.all import *\n",
    "from fastai.vision.widgets import *\n",
    "\n",
    "path = Path()\n",
    "learner = load_learner(path/'lts_clf.pkl', cpu = True)\n",
    "\n",
    "btn_upload = widgets.FileUpload()\n",
    "btn_clf = widgets.Button(description = 'Classify')\n",
    "out_pl = widgets.Output()\n",
    "label = widgets.Label()"
   ]
  },
  {
   "cell_type": "markdown",
   "metadata": {},
   "source": [
    "# Animal classifier\n",
    "\n",
    "The model will help you distinguish lions, tiger and snakes. Have fun playing around!"
   ]
  },
  {
   "cell_type": "code",
   "execution_count": null,
   "metadata": {},
   "outputs": [],
   "source": [
    "def on_click_img_clf(change):\n",
    "    try:\n",
    "        img = PILImage.create(btn_upload.data[-1])\n",
    "    except:\n",
    "        print('Upload an image')\n",
    "    out_pl.clear_output()\n",
    "    with out_pl: display(img.to_thumb(224))\n",
    "    pred, pred_idx, probs = learner.predict(img)\n",
    "    label.value = f'Category: {pred}; Probability: {probs[pred_idx]:.04f}'"
   ]
  },
  {
   "cell_type": "code",
   "execution_count": null,
   "metadata": {},
   "outputs": [],
   "source": [
    "btn_clf.on_click(on_click_img_clf)\n",
    "display(VBox([btn_upload, btn_clf, out_pl, label]))"
   ]
  }
 ],
 "metadata": {
  "kernelspec": {
   "display_name": "Python 3",
   "language": "python",
   "name": "python3"
  },
  "language_info": {
   "codemirror_mode": {
    "name": "ipython",
    "version": 3
   },
   "file_extension": ".py",
   "mimetype": "text/x-python",
   "name": "python",
   "nbconvert_exporter": "python",
   "pygments_lexer": "ipython3",
   "version": "3.8.5"
  }
 },
 "nbformat": 4,
 "nbformat_minor": 4
}
